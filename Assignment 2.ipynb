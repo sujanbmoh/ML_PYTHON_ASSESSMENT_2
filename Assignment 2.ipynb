{
 "cells": [
  {
   "cell_type": "markdown",
   "metadata": {},
   "source": [
    "# Task 1:"
   ]
  },
  {
   "cell_type": "markdown",
   "metadata": {},
   "source": [
    "### 1.1 Write a Python Program to implement your own myreduce() function which works exactly like Python's built-in function reduce() "
   ]
  },
  {
   "cell_type": "code",
   "execution_count": 43,
   "metadata": {},
   "outputs": [
    {
     "name": "stdout",
     "output_type": "stream",
     "text": [
      "Sum of the list [49,263,100] is 412\n"
     ]
    }
   ],
   "source": [
    "def own_myreduce(a, b):\n",
    "  result = b[0]\n",
    "  for item in b[1:]:\n",
    "   result = a(result, item)\n",
    "\n",
    "  return result\n",
    "\n",
    "def add(m,n): return m + n\n",
    "\n",
    "print (\"Sum of the list [49,263,100] is \"   +  str(own_myreduce(add, [49,263,100])) )"
   ]
  },
  {
   "cell_type": "markdown",
   "metadata": {},
   "source": [
    "### 1.2 Write a Python program to implement your own myfilter() function which works exactly like Python's built-in function filter() "
   ]
  },
  {
   "cell_type": "code",
   "execution_count": 45,
   "metadata": {},
   "outputs": [
    {
     "name": "stdout",
     "output_type": "stream",
     "text": [
      "Filter out positive numbers of the list [22,17,-56,-99,20,-69] is [22, 17, 20]\n"
     ]
    }
   ],
   "source": [
    "def own_myfilter(a, b):\n",
    "\n",
    " result = []\n",
    " \n",
    " for item in b:\n",
    "  if a(item):\n",
    "   result.append(item)\n",
    "\n",
    " return result\n",
    "\n",
    "def pos_or_neg(c):\n",
    " if (c <= 0): \n",
    "  return False \n",
    " else: \n",
    "  return True\n",
    "\n",
    "print (\"Filter out positive numbers of the list [22,17,-56,-99,20,-69] is \"  + str(own_myfilter(pos_or_neg, [22,17,-56,-99,20,-69])))"
   ]
  },
  {
   "cell_type": "markdown",
   "metadata": {},
   "source": [
    "### 2.Implement List comprehensions to produce the following lists. \n",
    " \n",
    "### Write List comprehensions to produce the following Lists \n",
    " \n",
    "### ['A', 'C', 'A', 'D', 'G', 'I', ’L’, ‘ D’] \n",
    " \n",
    "### ['x', 'xx', 'xxx', 'xxxx', 'y', 'yy', 'yyy', 'yyyy', 'z', 'zz', 'zzz', 'zzzz'] \n",
    " \n",
    "### ['x', 'y', 'z', 'xx', 'yy', 'zz', 'xx', 'yy', 'zz', 'xxxx', 'yyyy', 'zzzz'] "
   ]
  },
  {
   "cell_type": "code",
   "execution_count": 6,
   "metadata": {},
   "outputs": [
    {
     "name": "stdout",
     "output_type": "stream",
     "text": [
      "['A', 'C', 'A', 'D', 'G', 'I', 'L', 'D']\n",
      "['x', 'xx', 'xxx', 'xxxx', 'y', 'yy', 'yyy', 'yyyy', 'z', 'zz', 'zzz', 'zzzz']\n",
      "['x', 'y', 'z', 'xx', 'yy', 'zz', 'xxx', 'yyy', 'zzz', 'xxxx', 'yyyy', 'zzzz']\n"
     ]
    }
   ],
   "source": [
    "word = \"ACADGILD\"\n",
    "letterslist = [ alphabet for alphabet in word ]\n",
    "print(str(letterslist))\n",
    "\n",
    "alphalist = ['x','y','z']\n",
    "result = [ item*num for item in alphalist for num in range(1,5)  ]\n",
    "print(str(result))\n",
    "\n",
    "alphabetlist = ['x','y','z']\n",
    "result = [ item*num for num in range(1,5) for item in alphabetlist  ]\n",
    "print(str(result))\n",
    "\n",
    "\n"
   ]
  },
  {
   "cell_type": "markdown",
   "metadata": {},
   "source": [
    "### 3.Implement a function longestWord() that takes a list of words and returns the longest one. "
   ]
  },
  {
   "cell_type": "code",
   "execution_count": 17,
   "metadata": {},
   "outputs": [
    {
     "ename": "NameError",
     "evalue": "name 'stp' is not defined",
     "output_type": "error",
     "traceback": [
      "\u001b[1;31m---------------------------------------------------------------------------\u001b[0m",
      "\u001b[1;31mNameError\u001b[0m                                 Traceback (most recent call last)",
      "\u001b[1;32m<ipython-input-17-97df3b6504d4>\u001b[0m in \u001b[0;36m<module>\u001b[1;34m\u001b[0m\n\u001b[0;32m     12\u001b[0m \u001b[1;33m\u001b[0m\u001b[0m\n\u001b[0;32m     13\u001b[0m \u001b[0ms\u001b[0m \u001b[1;33m=\u001b[0m \u001b[1;34m\"I am an intern at geeksforgeeks\"\u001b[0m\u001b[1;33m\u001b[0m\u001b[1;33m\u001b[0m\u001b[0m\n\u001b[1;32m---> 14\u001b[1;33m \u001b[0mprint\u001b[0m\u001b[1;33m(\u001b[0m\u001b[1;34m\"longest word is \"\u001b[0m \u001b[1;33m+\u001b[0m \u001b[0mstr\u001b[0m\u001b[1;33m(\u001b[0m\u001b[0mstp\u001b[0m\u001b[1;33m)\u001b[0m \u001b[1;33m+\u001b[0m \u001b[0mLongestWord\u001b[0m\u001b[1;33m(\u001b[0m\u001b[0ms\u001b[0m\u001b[1;33m)\u001b[0m\u001b[1;33m)\u001b[0m\u001b[1;33m\u001b[0m\u001b[1;33m\u001b[0m\u001b[0m\n\u001b[0m",
      "\u001b[1;31mNameError\u001b[0m: name 'stp' is not defined"
     ]
    }
   ],
   "source": [
    "def LongestWord(stp): \n",
    "    n = len(stp) \n",
    "    res = 0; curr_len = 0\n",
    "      \n",
    "    for i in range(0, n):     \n",
    "        if (stp[i] != ' '): \n",
    "            curr_len += 1\n",
    "        else: \n",
    "            res = max(res, curr_len) \n",
    "            curr_len = 0\n",
    "    return max(res, curr_len) \n",
    "  \n",
    "s = \"I am an intern at geeksforgeeks\"\n",
    "print(\"longest word is \" + str(stp) + LongestWord(s)) "
   ]
  },
  {
   "cell_type": "markdown",
   "metadata": {},
   "source": [
    "# TASK2"
   ]
  },
  {
   "cell_type": "markdown",
   "metadata": {},
   "source": [
    "### 1.1  Write a Python Program(with class concepts) to find the area of the triangle using the below formula. \n",
    " \n",
    "### area = (s*(s-a)*(s-b)*(s-c)) ** 0.5 \n",
    " \n",
    "### Function to take the length of the sides of triangle from user should be defined in the parent class and function to calculate the area should be defined in subclass. "
   ]
  },
  {
   "cell_type": "code",
   "execution_count": 5,
   "metadata": {},
   "outputs": [
    {
     "name": "stdout",
     "output_type": "stream",
     "text": [
      "Enter the value of a = 2\n",
      "Enter the value of b = 3\n",
      "Enter the value of c = 4\n",
      "area : 2.9047375096555625\n"
     ]
    }
   ],
   "source": [
    "class Tri:\n",
    " \n",
    "    def __init__(temp,i,j,k):\n",
    "        temp.i = float(i)\n",
    "        temp.j = float(j)\n",
    "        temp.k = float(k)\n",
    " \n",
    "    def area(temp):\n",
    "        s=(temp.i + temp.j + temp.k)/2\n",
    "        return((s*(s-temp.i)*(s-temp.j)*(s-temp.k))**0.5)\n",
    " \n",
    "i=input(\"Enter the value of a = \")\n",
    "j=input(\"Enter the value of b = \")\n",
    "k=input(\"Enter the value of c = \")\n",
    "t = Tri(i, j, k)\n",
    "print(\"area : {}\".format(t.area()))"
   ]
  },
  {
   "cell_type": "markdown",
   "metadata": {},
   "source": [
    "### 1.2 Write a function filter_long_words() that takes a list of words and an integer n and returns the list of words that are longer than n. "
   ]
  },
  {
   "cell_type": "code",
   "execution_count": 9,
   "metadata": {},
   "outputs": [
    {
     "name": "stdout",
     "output_type": "stream",
     "text": [
      "Enter words:returns,the,list,of,words,that,are,longer,than\n",
      "Enter Min Length:5\n",
      "Words with at least min length: ['returns', 'words', 'longer']\n"
     ]
    }
   ],
   "source": [
    "def filter_long_words(p,q):\n",
    "    w=[]\n",
    "    for i in p:\n",
    "        if(len(i)>=q):\n",
    "            w.append(i)\n",
    "    return w\n",
    "\n",
    "w_list=input(\"Enter words:\")\n",
    "w_list_sep = w_list.split(\",\")\n",
    "n=input(\"Enter Min Length:\")\n",
    "long=filter_long_words(w_list_sep,int(n))\n",
    "\n",
    "print(\"Words with at least min length:\",long)"
   ]
  },
  {
   "cell_type": "markdown",
   "metadata": {},
   "source": [
    "### 2.1 Write a Python program using function concept that maps  list of words into a list of integers representing the lengths of the corresponding words​. \n",
    " ### Hint: If a list [ ab,cde,erty] is passed on to the python function output should come as [2,3,4] \n",
    "   ### Here 2,3 and 4 are the lengths of the words in the list"
   ]
  },
  {
   "cell_type": "code",
   "execution_count": 11,
   "metadata": {},
   "outputs": [
    {
     "name": "stdout",
     "output_type": "stream",
     "text": [
      "List of words:['Data', 'machine', 'deep', 'masters', 'career']\n",
      "List of length:[4, 7, 4, 7, 6]\n"
     ]
    }
   ],
   "source": [
    "word_of_five = ['Data','machine','deep','masters','career']\n",
    " \n",
    "word_of_int = []\n",
    "\n",
    "for i in range(len(word_of_five)):\n",
    "    word_of_int.append(len(word_of_five[i]))\n",
    " \n",
    "print (\"List of words:\"+str(word_of_five))    \n",
    "print (\"List of length:\"+str(word_of_int))"
   ]
  },
  {
   "cell_type": "markdown",
   "metadata": {},
   "source": [
    "### 2.2 Write a Python function which takes a character (i.e. a string of length 1) and returns True if it is a vowel, False otherwise. "
   ]
  },
  {
   "cell_type": "code",
   "execution_count": 15,
   "metadata": {},
   "outputs": [
    {
     "name": "stdout",
     "output_type": "stream",
     "text": [
      "please type any alphabeth\n",
      "False\n"
     ]
    }
   ],
   "source": [
    "def v(c):\n",
    "    vowels = ('a', 'e', 'i', 'o', 'u')\n",
    "    if c not in vowels:\n",
    "        return False\n",
    "    return True\n",
    "char = input(\"please type any alphabet\")\n",
    "print(v(char))"
   ]
  }
 ],
 "metadata": {
  "kernelspec": {
   "display_name": "Python 3",
   "language": "python",
   "name": "python3"
  },
  "language_info": {
   "codemirror_mode": {
    "name": "ipython",
    "version": 3
   },
   "file_extension": ".py",
   "mimetype": "text/x-python",
   "name": "python",
   "nbconvert_exporter": "python",
   "pygments_lexer": "ipython3",
   "version": "3.7.4"
  }
 },
 "nbformat": 4,
 "nbformat_minor": 2
}
